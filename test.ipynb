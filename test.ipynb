{
 "cells": [
  {
   "cell_type": "code",
<<<<<<< HEAD
   "execution_count": 4,
   "metadata": {},
   "outputs": [],
   "source": [
    "import matplotlib.pyplot as plt\n",
    "import numpy as np"
=======
   "execution_count": 184,
   "metadata": {},
   "outputs": [],
   "source": [
    "import numpy as np\n",
    "import matplotlib.pyplot as plt\n",
    "    "
>>>>>>> 1d5347a72a4b06ada78f4c341c43c2dae4142b59
   ]
  },
  {
   "cell_type": "code",
<<<<<<< HEAD
   "execution_count": 30,
   "metadata": {},
   "outputs": [],
   "source": [
    "def calc(c, max_iter):\n",
    "    i = 0\n",
    "    while i < max_iter:\n",
    "        c = c**2 + c\n",
    "        if np.abs(c) > 2:\n",
    "            return i\n",
=======
   "execution_count": 188,
   "metadata": {},
   "outputs": [],
   "source": [
    "def mandelbrot(c, max_iter):\n",
    "    z = 0\n",
    "    i = 0\n",
    "    while i < max_iter and np.abs(z) <= 2:\n",
    "        z = z ** 2 + c\n",
    "        i += 1          \n",
>>>>>>> 1d5347a72a4b06ada78f4c341c43c2dae4142b59
    "    return i"
   ]
  },
  {
   "cell_type": "code",
<<<<<<< HEAD
   "execution_count": 38,
=======
   "execution_count": 189,
>>>>>>> 1d5347a72a4b06ada78f4c341c43c2dae4142b59
   "metadata": {},
   "outputs": [
    {
     "data": {
      "text/plain": [
<<<<<<< HEAD
       "(-7+24j)"
      ]
     },
     "execution_count": 38,
=======
       "2"
      ]
     },
     "execution_count": 189,
>>>>>>> 1d5347a72a4b06ada78f4c341c43c2dae4142b59
     "metadata": {},
     "output_type": "execute_result"
    }
   ],
   "source": [
<<<<<<< HEAD
    "(complex(3, 4)) ** 2"
=======
    "max_iter = 1000\n",
    "values = []\n",
    "for a in np.linspace(-20, 10, 100):\n",
    "    for b in np.linspace(-10, 10, 100):\n",
    "    #     color = ['black', 'white'][1 if mandelbrot(complex(a/10, b/10), max_iter)  < max_iter else 0]\n",
    "        values.append([a, b, color])\n",
    "mandelbrot(complex(a/10, b/10), max_iter)"
   ]
  },
  {
   "cell_type": "code",
   "execution_count": 194,
   "metadata": {},
   "outputs": [
    {
     "ename": "SyntaxError",
     "evalue": "closing parenthesis ')' does not match opening parenthesis '[' (2753862691.py, line 3)",
     "output_type": "error",
     "traceback": [
      "\u001b[0;36m  Cell \u001b[0;32mIn[194], line 3\u001b[0;36m\u001b[0m\n\u001b[0;31m    plt.scatter(x= arr[:, 4), y = arr[:, 4)cmap=arr[:, 2], # h)\u001b[0m\n\u001b[0m                           ^\u001b[0m\n\u001b[0;31mSyntaxError\u001b[0m\u001b[0;31m:\u001b[0m closing parenthesis ')' does not match opening parenthesis '['\n"
     ]
    }
   ],
   "source": [
    "arr = np.array(values, dtype=np.float64)\n",
    "\n",
    "plt.scatter(x= arr[:, 4), y = arr[:, 4)cmap=arr[:, 2], # h)\n",
    "plt.show()"
>>>>>>> 1d5347a72a4b06ada78f4c341c43c2dae4142b59
   ]
  }
 ],
 "metadata": {
  "kernelspec": {
   "display_name": "Python 3",
   "language": "python",
   "name": "python3"
  },
  "language_info": {
   "codemirror_mode": {
    "name": "ipython",
    "version": 3
   },
   "file_extension": ".py",
   "mimetype": "text/x-python",
   "name": "python",
   "nbconvert_exporter": "python",
   "pygments_lexer": "ipython3",
<<<<<<< HEAD
   "version": "3.9.1"
=======
   "version": "3.9.0"
>>>>>>> 1d5347a72a4b06ada78f4c341c43c2dae4142b59
  },
  "orig_nbformat": 4
 },
 "nbformat": 4,
 "nbformat_minor": 2
}
