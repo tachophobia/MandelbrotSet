{
 "cells": [
  {
   "cell_type": "code",
   "execution_count": 184,
   "metadata": {},
   "outputs": [],
   "source": [
    "import numpy as np\n",
    "import matplotlib.pyplot as plt\n",
    "    "
   ]
  },
  {
   "cell_type": "code",
   "execution_count": 188,
   "metadata": {},
   "outputs": [],
   "source": [
    "def mandelbrot(c, max_iter):\n",
    "    z = 0\n",
    "    i = 0\n",
    "    while i < max_iter and np.abs(z) <= 2:\n",
    "        z = z ** 2 + c\n",
    "        i += 1          \n",
    "    return i"
   ]
  },
  {
   "cell_type": "code",
   "execution_count": 189,
   "metadata": {},
   "outputs": [
    {
     "data": {
      "text/plain": [
       "2"
      ]
     },
     "execution_count": 189,
     "metadata": {},
     "output_type": "execute_result"
    }
   ],
   "source": [
    "max_iter = 1000\n",
    "values = []\n",
    "for a in np.linspace(-20, 10, 100):\n",
    "    for b in np.linspace(-10, 10, 100):\n",
    "    #     color = ['black', 'white'][1 if mandelbrot(complex(a/10, b/10), max_iter)  < max_iter else 0]\n",
    "        values.append([a, b, color])\n",
    "mandelbrot(complex(a/10, b/10), max_iter)"
   ]
  },
  {
   "cell_type": "code",
   "execution_count": 194,
   "metadata": {},
   "outputs": [
    {
     "ename": "SyntaxError",
     "evalue": "closing parenthesis ')' does not match opening parenthesis '[' (2753862691.py, line 3)",
     "output_type": "error",
     "traceback": [
      "\u001b[0;36m  Cell \u001b[0;32mIn[194], line 3\u001b[0;36m\u001b[0m\n\u001b[0;31m    plt.scatter(x= arr[:, 4), y = arr[:, 4)cmap=arr[:, 2], # h)\u001b[0m\n\u001b[0m                           ^\u001b[0m\n\u001b[0;31mSyntaxError\u001b[0m\u001b[0;31m:\u001b[0m closing parenthesis ')' does not match opening parenthesis '['\n"
     ]
    }
   ],
   "source": [
    "arr = np.array(values, dtype=np.float64)\n",
    "\n",
    "plt.scatter(x= arr[:, 4), y = arr[:, 4)cmap=arr[:, 2], # h)\n",
    "plt.show()"
   ]
  }
 ],
 "metadata": {
  "kernelspec": {
   "display_name": "Python 3",
   "language": "python",
   "name": "python3"
  },
  "language_info": {
   "codemirror_mode": {
    "name": "ipython",
    "version": 3
   },
   "file_extension": ".py",
   "mimetype": "text/x-python",
   "name": "python",
   "nbconvert_exporter": "python",
   "pygments_lexer": "ipython3",
   "version": "3.9.0"
  },
  "orig_nbformat": 4
 },
 "nbformat": 4,
 "nbformat_minor": 2
}
